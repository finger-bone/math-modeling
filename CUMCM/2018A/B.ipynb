{
 "cells": [
  {
   "cell_type": "code",
   "execution_count": null,
   "metadata": {},
   "outputs": [],
   "source": [
    "# 2018 1)结果"
   ]
  },
  {
   "cell_type": "code",
   "execution_count": 2,
   "metadata": {},
   "outputs": [],
   "source": [
    "import numpy as np"
   ]
  },
  {
   "cell_type": "code",
   "execution_count": 3,
   "metadata": {},
   "outputs": [],
   "source": [
    "# 附件1. 专用服装材料的参数值\t\t\t\t\n",
    "# 分层\t\"密度\n",
    "# (kg/m）\"\t\"比热\n",
    "# (J/(kg·ºC))\"\t\"热传导率\n",
    "# (W/(m·ºC))\"\t\"厚度\n",
    "# (mm)\"\n",
    "# I层\t300\t1,377\t0.08\t0.60\n",
    "# II层\t862\t2,100\t0.37\t0.6-25\n",
    "# III层\t74.20\t1,726\t0.05\t3.60\n",
    "# IV层\t1.18\t1,005\t0.03\t0.6-6.4"
   ]
  },
  {
   "cell_type": "code",
   "execution_count": 4,
   "metadata": {},
   "outputs": [],
   "source": [
    "rho = np.array([300, 862, 74.20, 1.18])\n",
    "c = np.array([1377, 2100, 1726, 1005])\n",
    "k = np.array([0.08, 0.37, 0.05, 0.03])\n",
    "t = np.array([0.6e-3, 6e-3, 3.6e-3, 5e-3])"
   ]
  },
  {
   "cell_type": "code",
   "execution_count": 5,
   "metadata": {},
   "outputs": [],
   "source": [
    "dx = 0.01e-3\n",
    "dt = 0.1"
   ]
  },
  {
   "cell_type": "code",
   "execution_count": 6,
   "metadata": {},
   "outputs": [
    {
     "data": {
      "text/plain": [
       "[0, 59, 659, 1018, 1517]"
      ]
     },
     "execution_count": 6,
     "metadata": {},
     "output_type": "execute_result"
    }
   ],
   "source": [
    "b_ = [0]\n",
    "for each_t in t:\n",
    "    b_.append(b_[-1] + int(each_t / dx))\n",
    "b_"
   ]
  },
  {
   "cell_type": "code",
   "execution_count": 7,
   "metadata": {},
   "outputs": [
    {
     "data": {
      "text/plain": [
       "53999"
      ]
     },
     "execution_count": 7,
     "metadata": {},
     "output_type": "execute_result"
    }
   ],
   "source": [
    "T = 5400\n",
    "n_ = int(T // dt)\n",
    "n_"
   ]
  },
  {
   "cell_type": "code",
   "execution_count": 8,
   "metadata": {},
   "outputs": [
    {
     "name": "stdout",
     "output_type": "stream",
     "text": [
      "[0.0, 0.0, 0.0, 0.0, 0.0, 0.0, 0.0, -193.65770999757925, 388.3154199951585, -193.65770999757925, 0.0, 0.0, 0.0, 0.0, 0.0, 0.0, 0.0, 0.0, 0.0, 0.0]\n",
      "[0.0, 0.0, 0.0, 0.0, 0.0, 0.0, 0.0, 0.0, -193.65770999757925, 388.3154199951585, -193.65770999757925, 0.0, 0.0, 0.0, 0.0, 0.0, 0.0, 0.0, 0.0, 0.0]\n",
      "[0.0, 0.0, 0.0, 0.0, 0.0, 0.0, 0.0, 0.0, 0.0, -193.65770999757925, 388.3154199951585, -193.65770999757925, 0.0, 0.0, 0.0, 0.0, 0.0, 0.0, 0.0, 0.0]\n"
     ]
    }
   ],
   "source": [
    "M_B = np.zeros((b_[-1] + 1, b_[-1] + 1))\n",
    "dt_over_dx_squared = dt / (dx ** 2)\n",
    "for part in range(1, len(b_)):\n",
    "    ld = dt_over_dx_squared * k[part - 1] / (c[part - 1] * rho[part - 1])\n",
    "    for x_ in range(b_[part - 1], b_[part]):\n",
    "        M_B[x_][x_] = 1 + 2 * ld\n",
    "        if x_ != 0:\n",
    "            M_B[x_][x_ - 1] = -ld\n",
    "        if x_ != b_[-1]:\n",
    "            M_B[x_][x_ + 1] = -ld\n",
    "for part, border in enumerate(b_[1:-1]):\n",
    "    nu_last = k[part]\n",
    "    nu_next = k[part + 1]\n",
    "    M_B[border][border] = nu_last + nu_next\n",
    "    M_B[border][border - 1] = -nu_last\n",
    "    M_B[border][border + 1] = -nu_next\n",
    "M_B[0][1] = -1\n",
    "M_B[-1][-2] = -1\n",
    "for each in M_B[28:31].tolist():\n",
    "    print(each[20:40])"
   ]
  },
  {
   "cell_type": "code",
   "execution_count": 9,
   "metadata": {},
   "outputs": [],
   "source": [
    "T_env = 75\n",
    "T_body = 37\n",
    "u_0 = None\n",
    "u_last = None\n",
    "\n",
    "def set_convection_param(h0, h1):\n",
    "    mu0 = dx * h0 / k[0]\n",
    "    mu1 = dx * h1 / k[-1]\n",
    "    M_B[0][0] = 1 + mu0\n",
    "    M_B[-1][-1] = 1 + mu1\n",
    "    global u_0, u_last\n",
    "    u_0 = mu0 * T_env\n",
    "    u_last = mu1 * T_body\n",
    "\n",
    "set_convection_param(118.5, 8.37)"
   ]
  },
  {
   "cell_type": "code",
   "execution_count": 10,
   "metadata": {},
   "outputs": [
    {
     "data": {
      "text/plain": [
       "array([[ 1.01481250e+00, -1.00000000e+00,  0.00000000e+00, ...,\n",
       "         0.00000000e+00,  0.00000000e+00,  0.00000000e+00],\n",
       "       [-1.93657710e+02,  3.88315420e+02, -1.93657710e+02, ...,\n",
       "         0.00000000e+00,  0.00000000e+00,  0.00000000e+00],\n",
       "       [ 0.00000000e+00, -1.93657710e+02,  3.88315420e+02, ...,\n",
       "         0.00000000e+00,  0.00000000e+00,  0.00000000e+00],\n",
       "       ...,\n",
       "       [ 0.00000000e+00,  0.00000000e+00,  0.00000000e+00, ...,\n",
       "         5.05954852e+04, -2.52972426e+04,  0.00000000e+00],\n",
       "       [ 0.00000000e+00,  0.00000000e+00,  0.00000000e+00, ...,\n",
       "        -2.52972426e+04,  5.05954852e+04, -2.52972426e+04],\n",
       "       [ 0.00000000e+00,  0.00000000e+00,  0.00000000e+00, ...,\n",
       "         0.00000000e+00, -1.00000000e+00,  1.00279000e+00]])"
      ]
     },
     "execution_count": 10,
     "metadata": {},
     "output_type": "execute_result"
    }
   ],
   "source": [
    "M_B"
   ]
  },
  {
   "cell_type": "code",
   "execution_count": 11,
   "metadata": {},
   "outputs": [],
   "source": [
    "T = np.ndarray((n_, b_[-1] + 1))\n",
    "T.fill(T_body)"
   ]
  },
  {
   "cell_type": "code",
   "execution_count": 12,
   "metadata": {},
   "outputs": [
    {
     "data": {
      "text/plain": [
       "1.1109375000000001"
      ]
     },
     "execution_count": 12,
     "metadata": {},
     "output_type": "execute_result"
    }
   ],
   "source": [
    "u_0"
   ]
  },
  {
   "cell_type": "code",
   "execution_count": 13,
   "metadata": {},
   "outputs": [],
   "source": [
    "def cal(h0, h1):\n",
    "    set_convection_param(h0, h1)\n",
    "    mask = np.zeros_like(T[0], dtype=bool)\n",
    "    mask[b_[1:-1]] = True\n",
    "\n",
    "    M_B_inv = np.linalg.inv(M_B)\n",
    "\n",
    "    for t_ in range(1, n_):\n",
    "        # if t_ % int(n_ / 5) == 0:\n",
    "        #     print(t_ / n_)\n",
    "        equ_b = T[t_ - 1].copy()\n",
    "        equ_b[0] = u_0\n",
    "        equ_b[-1] = u_last\n",
    "        equ_b[mask] = 0\n",
    "        T[t_] = M_B_inv @ equ_b\n",
    "        # T[t_] = np.linalg.solve(M_B, equ_b)\n",
    "    return T"
   ]
  },
  {
   "cell_type": "code",
   "execution_count": 14,
   "metadata": {},
   "outputs": [
    {
     "data": {
      "text/html": [
       "<div>\n",
       "<style scoped>\n",
       "    .dataframe tbody tr th:only-of-type {\n",
       "        vertical-align: middle;\n",
       "    }\n",
       "\n",
       "    .dataframe tbody tr th {\n",
       "        vertical-align: top;\n",
       "    }\n",
       "\n",
       "    .dataframe thead th {\n",
       "        text-align: right;\n",
       "    }\n",
       "</style>\n",
       "<table border=\"1\" class=\"dataframe\">\n",
       "  <thead>\n",
       "    <tr style=\"text-align: right;\">\n",
       "      <th></th>\n",
       "      <th>t</th>\n",
       "      <th>T</th>\n",
       "    </tr>\n",
       "  </thead>\n",
       "  <tbody>\n",
       "    <tr>\n",
       "      <th>0</th>\n",
       "      <td>0</td>\n",
       "      <td>37.0</td>\n",
       "    </tr>\n",
       "    <tr>\n",
       "      <th>1</th>\n",
       "      <td>1</td>\n",
       "      <td>37.0</td>\n",
       "    </tr>\n",
       "    <tr>\n",
       "      <th>2</th>\n",
       "      <td>2</td>\n",
       "      <td>37.0</td>\n",
       "    </tr>\n",
       "    <tr>\n",
       "      <th>3</th>\n",
       "      <td>3</td>\n",
       "      <td>37.0</td>\n",
       "    </tr>\n",
       "    <tr>\n",
       "      <th>4</th>\n",
       "      <td>4</td>\n",
       "      <td>37.0</td>\n",
       "    </tr>\n",
       "  </tbody>\n",
       "</table>\n",
       "</div>"
      ],
      "text/plain": [
       "   t     T\n",
       "0  0  37.0\n",
       "1  1  37.0\n",
       "2  2  37.0\n",
       "3  3  37.0\n",
       "4  4  37.0"
      ]
     },
     "execution_count": 14,
     "metadata": {},
     "output_type": "execute_result"
    }
   ],
   "source": [
    "import pandas as pd\n",
    "\n",
    "df = pd.read_excel(\"./d.xlsx\")\n",
    "df.head()"
   ]
  },
  {
   "cell_type": "code",
   "execution_count": 15,
   "metadata": {},
   "outputs": [],
   "source": [
    "# dt = 0.1, but the interval of df[\"T\"] is 1s\n",
    "reality = df[\"T\"].to_numpy()\n",
    "\n",
    "def loss(T):\n",
    "    # T is a two dimensional array for [time][space]\n",
    "    # we only want [time][last space]\n",
    "    return np.sum((T[:, -1][::10] - reality[:-1]) ** 2)\n",
    "\n",
    "def loss_by_hs(h):\n",
    "    # h is a two dimensional array\n",
    "    return loss(cal(h[0], h[1]))\n",
    "\n",
    "def grad_hs(h):\n",
    "    eps = 1e-8\n",
    "    # h is a two dimensional vector, like [100, 20]\n",
    "    # grad is a two dimensional vector, like [1, 1]\n",
    "    grad = np.zeros_like(h)\n",
    "    for i in range(len(h)):\n",
    "        h1 = h.copy()\n",
    "        h2 = h.copy()\n",
    "        h1[i] += eps\n",
    "        h2[i] -= eps\n",
    "        grad[i] = (loss_by_hs(h1) - loss_by_hs(h2)) / (2 * eps)\n",
    "    return grad\n",
    "        \n",
    "# perform gradient descent\n",
    "h = np.array([118.48722172, 8.99325409])\n",
    "lr = 1e-4\n",
    "iters = 0\n",
    "\n",
    "for i in range(iters):\n",
    "    grad = grad_hs(h)\n",
    "    #print(grad)\n",
    "    h -= lr * grad\n",
    "    l = loss_by_hs(h)\n",
    "    print(f\"Iteration {i}: loss = {l}, h = {h}\")\n",
    "    \n",
    "\n",
    "\n",
    "# import plotly.graph_objects as go\n",
    "\n",
    "# # Assuming T is your numpy array with temperature data\n",
    "# x, y = T.shape\n",
    "# x_interval = 10\n",
    "# y_interval = 4\n",
    "# x_values = list(range(0, x, x_interval))\n",
    "# y_values = list(range(0, y, y_interval))\n",
    "# X, Y = np.meshgrid(y_values, x_values)\n",
    "\n",
    "# fig = go.Figure(data=[go.Surface(z=T[::x_interval, ::y_interval], x=X, y=Y)])\n",
    "# fig.show()"
   ]
  },
  {
   "cell_type": "code",
   "execution_count": 16,
   "metadata": {},
   "outputs": [
    {
     "data": {
      "text/plain": [
       "array([118.48722172,   8.99325409])"
      ]
     },
     "execution_count": 16,
     "metadata": {},
     "output_type": "execute_result"
    }
   ],
   "source": [
    "h"
   ]
  },
  {
   "cell_type": "code",
   "execution_count": 17,
   "metadata": {},
   "outputs": [],
   "source": [
    "T = cal(h[0], h[1])"
   ]
  },
  {
   "cell_type": "code",
   "execution_count": 20,
   "metadata": {},
   "outputs": [
    {
     "data": {
      "text/plain": [
       "[<matplotlib.lines.Line2D at 0x10362eb30>]"
      ]
     },
     "execution_count": 20,
     "metadata": {},
     "output_type": "execute_result"
    },
    {
     "data": {
      "image/png": "[encoded data removed]",
      "text/plain": [
       "<Figure size 640x480 with 1 Axes>"
      ]
     },
     "metadata": {},
     "output_type": "display_data"
    }
   ],
   "source": [
    "import matplotlib.pyplot as plt\n",
    "\n",
    "# plot reality\n",
    "plt.plot(reality, label='data')\n",
    "plt.plot(T[:, -1][::10], label='prediction')"
   ]
  },
  {
   "cell_type": "code",
   "execution_count": null,
   "metadata": {},
   "outputs": [],
   "source": []
  }
 ],
 "metadata": {
  "kernelspec": {
   "display_name": "math",
   "language": "python",
   "name": "python3"
  },
  "language_info": {
   "codemirror_mode": {
    "name": "ipython",
    "version": 3
   },
   "file_extension": ".py",
   "mimetype": "text/x-python",
   "name": "python",
   "nbconvert_exporter": "python",
   "pygments_lexer": "ipython3",
   "version": "3.10.11"
  },
  "orig_nbformat": 4
 },
 "nbformat": 4,
 "nbformat_minor": 2
}
