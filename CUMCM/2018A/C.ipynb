{
 "cells": [
  {
   "cell_type": "code",
   "execution_count": null,
   "metadata": {},
   "outputs": [],
   "source": [
    "# 2018A 2) 结果"
   ]
  },
  {
   "cell_type": "code",
   "execution_count": 1,
   "metadata": {},
   "outputs": [],
   "source": [
    "import numpy as np"
   ]
  },
  {
   "cell_type": "code",
   "execution_count": 2,
   "metadata": {},
   "outputs": [],
   "source": [
    "# 附件1. 专用服装材料的参数值\t\t\t\t\n",
    "# 分层\t\"密度\n",
    "# (kg/m）\"\t\"比热\n",
    "# (J/(kg·ºC))\"\t\"热传导率\n",
    "# (W/(m·ºC))\"\t\"厚度\n",
    "# (mm)\"\n",
    "# I层\t300\t1,377\t0.08\t0.60\n",
    "# II层\t862\t2,100\t0.37\t0.6-25\n",
    "# III层\t74.20\t1,726\t0.05\t3.60\n",
    "# IV层\t1.18\t1,005\t0.03\t0.6-6.4"
   ]
  },
  {
   "cell_type": "code",
   "execution_count": 3,
   "metadata": {},
   "outputs": [],
   "source": [
    "time = 3600\n",
    "dx = 0.01e-3\n",
    "dt = 0.1\n",
    "n_ = int(time // dt)\n",
    "\n",
    "def cal(sec):\n",
    "    rho = np.array([300, 862, 74.20, 1.18])\n",
    "    c = np.array([1377, 2100, 1726, 1005])\n",
    "    k = np.array([0.08, 0.37, 0.05, 0.03])\n",
    "    t = np.array([0.6e-3, sec, 3.6e-3, 5.5e-3])\n",
    "    b_ = [0]\n",
    "    for each_t in t:\n",
    "        b_.append(b_[-1] + int(each_t / dx))\n",
    "    M_B = np.zeros((b_[-1] + 1, b_[-1] + 1))\n",
    "    dt_over_dx_squared = dt / (dx ** 2)\n",
    "    for part in range(1, len(b_)):\n",
    "        ld = dt_over_dx_squared * k[part - 1] / (c[part - 1] * rho[part - 1])\n",
    "        for x_ in range(b_[part - 1], b_[part]):\n",
    "            M_B[x_][x_] = 1 + 2 * ld\n",
    "            if x_ != 0:\n",
    "                M_B[x_][x_ - 1] = -ld\n",
    "            if x_ != b_[-1]:\n",
    "                M_B[x_][x_ + 1] = -ld\n",
    "    for part, border in enumerate(b_[1:-1]):\n",
    "        nu_last = k[part]\n",
    "        nu_next = k[part + 1]\n",
    "        M_B[border][border] = nu_last + nu_next\n",
    "        M_B[border][border - 1] = -nu_last\n",
    "        M_B[border][border + 1] = -nu_next\n",
    "    M_B[0][1] = -1\n",
    "    M_B[-1][-2] = -1\n",
    "    T_env = 65\n",
    "    T_body = 37\n",
    "\n",
    "    h0, h1 = 118.48722172, 8.99325409\n",
    "    mu0 = dx * h0 / k[0]\n",
    "    mu1 = dx * h1 / k[-1]\n",
    "    M_B[0][0] = 1 + mu0\n",
    "    M_B[-1][-1] = 1 + mu1\n",
    "    u_0 = mu0 * T_env\n",
    "    u_last = mu1 * T_body\n",
    "\n",
    "    T = np.ndarray((n_, b_[-1] + 1))\n",
    "    T.fill(T_body)\n",
    "    mask = np.zeros_like(T[0], dtype=bool)\n",
    "    mask[b_[1:-1]] = True\n",
    "\n",
    "    M_B_inv = np.linalg.inv(M_B)\n",
    "\n",
    "    for t_ in range(1, n_):\n",
    "        # if t_ % int(n_ / 3) == 0:\n",
    "        #     print(t_ / n_)\n",
    "        equ_b = T[t_ - 1].copy()\n",
    "        equ_b[0] = u_0\n",
    "        equ_b[-1] = u_last\n",
    "        equ_b[mask] = 0\n",
    "        T[t_] = M_B_inv @ equ_b\n",
    "    return T"
   ]
  },
  {
   "cell_type": "code",
   "execution_count": 4,
   "metadata": {},
   "outputs": [],
   "source": [
    "T = cal(0.6e-3)"
   ]
  },
  {
   "cell_type": "code",
   "execution_count": 5,
   "metadata": {},
   "outputs": [
    {
     "name": "stdout",
     "output_type": "stream",
     "text": [
      "35301\n",
      "3000.0\n",
      "45.12053752584734\n"
     ]
    }
   ],
   "source": [
    "print(np.sum(T[:, -1] >= 44))\n",
    "print((5 * 60) / dt)\n",
    "print(T[-1][-1])"
   ]
  },
  {
   "cell_type": "code",
   "execution_count": 6,
   "metadata": {},
   "outputs": [
    {
     "name": "stdout",
     "output_type": "stream",
     "text": [
      "0.0173\n",
      "3093\n",
      "False\n",
      "44.075128660866625\n",
      "True\n",
      "--------------------\n",
      "0.01731\n",
      "3050\n",
      "False\n",
      "44.07405824667399\n",
      "True\n",
      "--------------------\n",
      "0.01732\n",
      "3006\n",
      "False\n",
      "44.07298674588829\n",
      "True\n",
      "--------------------\n",
      "0.017329999999999998\n",
      "2963\n",
      "True\n",
      "44.0719141578339\n",
      "True\n",
      "--------------------\n",
      "0.017339999999999998\n",
      "2919\n",
      "True\n",
      "44.070840483198154\n",
      "True\n",
      "--------------------\n",
      "0.017349999999999997\n",
      "2876\n",
      "True\n",
      "44.06976572181902\n",
      "True\n",
      "--------------------\n",
      "0.017359999999999997\n",
      "2832\n",
      "True\n",
      "44.06868987405951\n",
      "True\n",
      "--------------------\n",
      "0.017369999999999997\n",
      "2788\n",
      "True\n",
      "44.06761293989731\n",
      "True\n",
      "--------------------\n"
     ]
    },
    {
     "ename": "KeyboardInterrupt",
     "evalue": "",
     "output_type": "error",
     "traceback": [
      "\u001b[0;31m---------------------------------------------------------------------------\u001b[0m",
      "\u001b[0;31mKeyboardInterrupt\u001b[0m                         Traceback (most recent call last)",
      "Cell \u001b[0;32mIn[6], line 2\u001b[0m\n\u001b[1;32m      1\u001b[0m \u001b[39mfor\u001b[39;00m each \u001b[39min\u001b[39;00m np\u001b[39m.\u001b[39marange(\u001b[39m17.3e-3\u001b[39m, \u001b[39m17.4e-3\u001b[39m, \u001b[39m1e-5\u001b[39m):\n\u001b[0;32m----> 2\u001b[0m     T \u001b[39m=\u001b[39m cal(each)\n\u001b[1;32m      3\u001b[0m     \u001b[39mprint\u001b[39m(each)\n\u001b[1;32m      4\u001b[0m     \u001b[39mprint\u001b[39m(np\u001b[39m.\u001b[39msum(T[:, \u001b[39m-\u001b[39m\u001b[39m1\u001b[39m] \u001b[39m>\u001b[39m\u001b[39m=\u001b[39m \u001b[39m44\u001b[39m))\n",
      "Cell \u001b[0;32mIn[3], line 57\u001b[0m, in \u001b[0;36mcal\u001b[0;34m(sec)\u001b[0m\n\u001b[1;32m     55\u001b[0m     equ_b[\u001b[39m-\u001b[39m\u001b[39m1\u001b[39m] \u001b[39m=\u001b[39m u_last\n\u001b[1;32m     56\u001b[0m     equ_b[mask] \u001b[39m=\u001b[39m \u001b[39m0\u001b[39m\n\u001b[0;32m---> 57\u001b[0m     T[t_] \u001b[39m=\u001b[39m M_B_inv \u001b[39m@\u001b[39m equ_b\n\u001b[1;32m     58\u001b[0m \u001b[39mreturn\u001b[39;00m T\n",
      "\u001b[0;31mKeyboardInterrupt\u001b[0m: "
     ]
    }
   ],
   "source": [
    "for each in np.arange(17.3e-3, 17.4e-3, 1e-5):\n",
    "    T = cal(each)\n",
    "    print(each)\n",
    "    print(np.sum(T[:, -1] >= 44))\n",
    "    print(np.sum(T[:, -1] >= 44) <= (5 * 60) / dt)\n",
    "    print(T[-1][-1])\n",
    "    print(T[-1][-1] <= 47)\n",
    "    print(\"-\"*20)"
   ]
  },
  {
   "cell_type": "code",
   "execution_count": null,
   "metadata": {},
   "outputs": [],
   "source": [
    "# 0.0174"
   ]
  },
  {
   "cell_type": "code",
   "execution_count": null,
   "metadata": {},
   "outputs": [],
   "source": []
  }
 ],
 "metadata": {
  "kernelspec": {
   "display_name": "math",
   "language": "python",
   "name": "python3"
  },
  "language_info": {
   "codemirror_mode": {
    "name": "ipython",
    "version": 3
   },
   "file_extension": ".py",
   "mimetype": "text/x-python",
   "name": "python",
   "nbconvert_exporter": "python",
   "pygments_lexer": "ipython3",
   "version": "3.10.11"
  },
  "orig_nbformat": 4
 },
 "nbformat": 4,
 "nbformat_minor": 2
}
