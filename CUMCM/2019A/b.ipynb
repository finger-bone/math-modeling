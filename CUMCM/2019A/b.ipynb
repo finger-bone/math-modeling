{
 "cells": [
  {
   "cell_type": "code",
   "execution_count": null,
   "metadata": {},
   "outputs": [],
   "source": [
    "# 2019A 1)结果"
   ]
  },
  {
   "cell_type": "code",
   "execution_count": 13,
   "metadata": {},
   "outputs": [],
   "source": [
    "import numpy as np\n",
    "from functools import lru_cache\n",
    "\n",
    "@lru_cache(maxsize=None)\n",
    "def rho(p):\n",
    "    return (0.85 * p - 85.0) / (1.0 / (np.exp(90100664/13926267 + 3367307*p/501847788) - 1.0) - p + 1005.6) + 0.85\n",
    "\n",
    "# bisect for p, p should be in range of [1, 200]\n",
    "@lru_cache(maxsize=None)\n",
    "def p(rho_p, eps=1e-10):\n",
    "    p_low = 0\n",
    "    p_high = 200.0\n",
    "    while True:\n",
    "        p_mid = (p_low + p_high) / 2.0\n",
    "        # print(\"Trying:\", p_mid)\n",
    "        rho_mid = rho(p_mid)\n",
    "        if abs(p_mid - p_low) < eps or abs(p_mid - p_high) < eps:\n",
    "            raise Exception(\"p not found\")\n",
    "        if abs(rho_mid - rho_p) < eps:\n",
    "            return p_mid\n",
    "        elif rho_mid < rho_p:\n",
    "            p_low = p_mid\n",
    "        else:\n",
    "            p_high = p_mid"
   ]
  },
  {
   "cell_type": "code",
   "execution_count": 14,
   "metadata": {},
   "outputs": [
    {
     "data": {
      "text/plain": [
       "0.8996727113747187"
      ]
     },
     "execution_count": 14,
     "metadata": {},
     "output_type": "execute_result"
    }
   ],
   "source": [
    "rho(150)"
   ]
  },
  {
   "cell_type": "code",
   "execution_count": 15,
   "metadata": {},
   "outputs": [
    {
     "data": {
      "text/plain": [
       "149.99979622662067"
      ]
     },
     "execution_count": 15,
     "metadata": {},
     "output_type": "execute_result"
    }
   ],
   "source": [
    "p(0.8996724971110621)"
   ]
  },
  {
   "cell_type": "code",
   "execution_count": 16,
   "metadata": {},
   "outputs": [
    {
     "data": {
      "text/plain": [
       "[<matplotlib.lines.Line2D at 0x107f4b010>]"
      ]
     },
     "execution_count": 16,
     "metadata": {},
     "output_type": "execute_result"
    },
    {
     "data": {
      "image/png": "[encoded data removed]",
      "text/plain": [
       "<Figure size 640x480 with 1 Axes>"
      ]
     },
     "metadata": {},
     "output_type": "display_data"
    }
   ],
   "source": [
    "# plot rho(p)\n",
    "import matplotlib.pyplot as plt\n",
    "p_list = np.linspace(0, 200, 1000)\n",
    "rho_list = [rho(p) for p in p_list]\n",
    "plt.plot(p_list, rho_list)"
   ]
  },
  {
   "cell_type": "code",
   "execution_count": 17,
   "metadata": {},
   "outputs": [],
   "source": [
    "from math import pi\n",
    "C = 0.85\n",
    "A = pi * (1.4 / 2) ** 2\n",
    "V = 500 * pi * (10 / 2) ** 2\n",
    "C_A_SQRT2_OVER_V = C * A * np.sqrt(2) / V\n",
    "OVER_V = 1 / V"
   ]
  },
  {
   "cell_type": "code",
   "execution_count": 18,
   "metadata": {},
   "outputs": [],
   "source": [
    "T = 10e4 # in millisecond\n",
    "dt = 1e-1 # in millisecond\n",
    "N = int(T / dt)\n",
    "# in millisecond\n",
    "open_rest_interval = 10"
   ]
  },
  {
   "cell_type": "code",
   "execution_count": 19,
   "metadata": {},
   "outputs": [],
   "source": [
    "def cal(open_in_interval):\n",
    "    rho_by_t = np.zeros(N)\n",
    "    rho_by_t.fill(0.85)\n",
    "    for t_ in range(1, N):\n",
    "        # rhon -> rhon+1\n",
    "        # t_ -> t_ + 1\n",
    "        # print(rho_by_t[t_ - 1])\n",
    "        # if t_ % (N // 5) == 0:\n",
    "        #     print(t_ / N)\n",
    "        open_in = False\n",
    "        open_out = False\n",
    "        # in millisecond\n",
    "        t = t_ * dt\n",
    "        if t % (open_in_interval + open_rest_interval) < open_in_interval:\n",
    "            open_in = True\n",
    "        if t % 100 < 2.4:\n",
    "            open_out = True\n",
    "        dif = 0.0\n",
    "        if open_in:\n",
    "            dif += C_A_SQRT2_OVER_V * np.sqrt((160 - p(rho_by_t[t_ - 1])) * rho(160))\n",
    "        if open_out:\n",
    "            t_mod = t % 100\n",
    "            if t_mod < 0.2:\n",
    "                dif -= OVER_V * rho_by_t[t_ - 1] * 100 * t_mod\n",
    "            elif 0.2 <= t_mod < 2.2:\n",
    "                dif -= OVER_V * rho_by_t[t_ - 1] * 20\n",
    "            else:\n",
    "                dif -= OVER_V * rho_by_t[t_ - 1] * (20 - 100 * (t_mod - 2.2))\n",
    "        rho_by_t[t_] = rho_by_t[t_ - 1] + dif * dt\n",
    "    return rho_by_t"
   ]
  },
  {
   "cell_type": "code",
   "execution_count": 20,
   "metadata": {},
   "outputs": [
    {
     "data": {
      "text/plain": [
       "array([0.85      , 0.85001318, 0.85000471, ..., 0.85644365, 0.85644365,\n",
       "       0.85644365])"
      ]
     },
     "execution_count": 20,
     "metadata": {},
     "output_type": "execute_result"
    }
   ],
   "source": [
    "rho_by_t = cal(0.3)\n",
    "rho_by_t"
   ]
  },
  {
   "cell_type": "code",
   "execution_count": 21,
   "metadata": {},
   "outputs": [
    {
     "data": {
      "text/plain": [
       "0.8996727113747187"
      ]
     },
     "execution_count": 21,
     "metadata": {},
     "output_type": "execute_result"
    }
   ],
   "source": [
    "rho(150)"
   ]
  },
  {
   "cell_type": "code",
   "execution_count": 22,
   "metadata": {},
   "outputs": [
    {
     "name": "stdout",
     "output_type": "stream",
     "text": [
      "0.7629654403773574 0.0824907295132592\n"
     ]
    }
   ],
   "source": [
    "min_loss = 1e10\n",
    "best = None\n",
    "# best must be within [0.27, 0.29]\n",
    "# gradient descent for the best value\n",
    "\n",
    "# Define the loss function\n",
    "def loss(open_in_interval):\n",
    "    rho_by_t = cal(open_in_interval)\n",
    "    kernel = np.ones(10000) / 10000\n",
    "    rho_smooth = np.convolve(rho_by_t, kernel, mode='same')\n",
    "    # return np.sum(np.abs(rho_smooth[3 * N // 5 : N - N // 100] - rho(100)))\n",
    "    return np.sum(np.abs(rho_smooth[3 * N // 5 : N - N // 100] - rho(150)))\n",
    "\n",
    "# Define the gradient of the loss function\n",
    "def gradient(open_in_interval):\n",
    "    eps = 1e-4\n",
    "    return (loss(open_in_interval + eps) - loss(open_in_interval - eps)) / (2 * eps)\n",
    "\n",
    "# Initialize the value of open_in_interval\n",
    "open_in_interval = 0.7629654403773574\n",
    "\n",
    "# Set the learning rate and number of iterations\n",
    "learning_rate = 1e-10\n",
    "num_iterations = 0\n",
    "\n",
    "min_loss = loss(open_in_interval)\n",
    "best = open_in_interval\n",
    "\n",
    "# Perform gradient descent\n",
    "for i in range(num_iterations):\n",
    "    grad = gradient(open_in_interval)\n",
    "    open_in_interval -= learning_rate * grad\n",
    "    print(f\"Done {(i / num_iterations) * 100}%: open_in_interval = {open_in_interval}, loss = {loss(open_in_interval)}\")\n",
    "    if loss(open_in_interval) < min_loss:\n",
    "        min_loss = loss(open_in_interval)\n",
    "        best = open_in_interval\n",
    "\n",
    "\n",
    "# for open_in_interval in np.linspace(0.280, 0.289, 100):\n",
    "#     if open_in_interval % 0.01 == 0:\n",
    "#         print(open_in_interval)\n",
    "#     rho_by_t = cal(open_in_interval)\n",
    "#     kernel = np.ones(1000) / 1000\n",
    "#     rho_smooth = np.convolve(rho_by_t, kernel, mode='same')\n",
    "#     loss = np.sum(np.abs(rho_smooth[N // 20 : N // 10] - 0.85))\n",
    "#     if loss < min_loss:\n",
    "#         min_loss = loss\n",
    "#         best = open_in_interval\n",
    "print(best, min_loss)"
   ]
  },
  {
   "cell_type": "code",
   "execution_count": 23,
   "metadata": {},
   "outputs": [
    {
     "data": {
      "text/plain": [
       "[<matplotlib.lines.Line2D at 0x127e7d870>]"
      ]
     },
     "execution_count": 23,
     "metadata": {},
     "output_type": "execute_result"
    },
    {
     "data": {
      "image/png": "[encoded data removed]",
      "text/plain": [
       "<Figure size 640x480 with 1 Axes>"
      ]
     },
     "metadata": {},
     "output_type": "display_data"
    }
   ],
   "source": [
    "# plot p(t) with best open_in_interval\n",
    "ans = best\n",
    "rho_by_t = cal(ans)\n",
    "p_by_t = [p(rho_) for rho_ in rho_by_t]\n",
    "plt.plot(np.linspace(0, T, N), p_by_t)"
   ]
  },
  {
   "cell_type": "code",
   "execution_count": 24,
   "metadata": {},
   "outputs": [
    {
     "data": {
      "text/plain": [
       "[<matplotlib.lines.Line2D at 0x110057400>]"
      ]
     },
     "execution_count": 24,
     "metadata": {},
     "output_type": "execute_result"
    },
    {
     "data": {
      "image/png": "[encoded data removed]",
      "text/plain": [
       "<Figure size 640x480 with 1 Axes>"
      ]
     },
     "metadata": {},
     "output_type": "display_data"
    }
   ],
   "source": [
    "p_smooth = p_by_t\n",
    "kernel = np.ones(10000) / 10000\n",
    "p_smooth = np.convolve(p_by_t, kernel, mode='same')\n",
    "# remove the head and tail because they are not smooth\n",
    "start = N // 100\n",
    "end = N - N // 100\n",
    "p_smooth = p_smooth[start :end]\n",
    "plt.plot(np.linspace(0, T, N)[start : end], p_smooth)"
   ]
  }
 ],
 "metadata": {
  "kernelspec": {
   "display_name": "math",
   "language": "python",
   "name": "python3"
  },
  "language_info": {
   "codemirror_mode": {
    "name": "ipython",
    "version": 3
   },
   "file_extension": ".py",
   "mimetype": "text/x-python",
   "name": "python",
   "nbconvert_exporter": "python",
   "pygments_lexer": "ipython3",
   "version": "3.10.11"
  },
  "orig_nbformat": 4
 },
 "nbformat": 4,
 "nbformat_minor": 2
}
