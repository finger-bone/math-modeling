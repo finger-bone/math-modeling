{
 "cells": [
  {
   "cell_type": "code",
   "execution_count": null,
   "metadata": {},
   "outputs": [],
   "source": [
    "# 2020A 2）结果"
   ]
  },
  {
   "cell_type": "code",
   "execution_count": 28,
   "metadata": {},
   "outputs": [],
   "source": [
    "import numpy as np"
   ]
  },
  {
   "cell_type": "code",
   "execution_count": 29,
   "metadata": {},
   "outputs": [],
   "source": [
    "# Celsius\n",
    "T15 = 182\n",
    "T6 = 203\n",
    "T7 = 237\n",
    "T89 = 254\n",
    "T1011 = 25\n",
    "T_env = 25"
   ]
  },
  {
   "cell_type": "code",
   "execution_count": 30,
   "metadata": {},
   "outputs": [],
   "source": [
    "# centimeter\n",
    "stove_env = 25\n",
    "small_room = 30.5\n",
    "room_interval = 5"
   ]
  },
  {
   "cell_type": "code",
   "execution_count": 31,
   "metadata": {},
   "outputs": [],
   "source": [
    "T_stove_bs_dif = [\n",
    "    stove_env,\n",
    "    small_room * 5 + room_interval * 4, # 1-5 without the last interval\n",
    "    room_interval, # 5 interval\n",
    "    small_room, # 6 room\n",
    "    room_interval, # 6 interval\n",
    "    small_room, # 7 room\n",
    "    room_interval, # 7 interval\n",
    "    small_room * 2 + room_interval, # 8-9 without the last interval\n",
    "    room_interval, # 9 interval\n",
    "    small_room * 2 + room_interval, # 10-11 without the last interval\n",
    "    room_interval + stove_env # 11 interval and the stove-env area\n",
    "]"
   ]
  },
  {
   "cell_type": "code",
   "execution_count": 32,
   "metadata": {},
   "outputs": [
    {
     "data": {
      "text/plain": [
       "[0, 25, 197.5, 202.5, 233.0, 238.0, 268.5, 273.5, 339.5, 344.5, 410.5, 440.5]"
      ]
     },
     "execution_count": 32,
     "metadata": {},
     "output_type": "execute_result"
    }
   ],
   "source": [
    "T_stove_bs = [0]\n",
    "for each in T_stove_bs_dif:\n",
    "    T_stove_bs.append(T_stove_bs[-1] + each)\n",
    "T_stove_bs"
   ]
  },
  {
   "cell_type": "code",
   "execution_count": 33,
   "metadata": {},
   "outputs": [
    {
     "data": {
      "text/plain": [
       "12"
      ]
     },
     "execution_count": 33,
     "metadata": {},
     "output_type": "execute_result"
    }
   ],
   "source": [
    "len(T_stove_bs)"
   ]
  },
  {
   "cell_type": "code",
   "execution_count": 34,
   "metadata": {},
   "outputs": [],
   "source": [
    "def T_air(x):\n",
    "    if T_stove_bs[0] <= x <= T_stove_bs[1]:\n",
    "        slope = (T15 - T_env) / (T_stove_bs[1] - T_stove_bs[0])\n",
    "        return slope * (x - T_stove_bs[0]) + T_env\n",
    "    elif T_stove_bs[1] < x <= T_stove_bs[2]:\n",
    "        return T15\n",
    "    elif T_stove_bs[2] < x <= T_stove_bs[3]:\n",
    "        slope = (T6 - T15) / (T_stove_bs[3] - T_stove_bs[2])\n",
    "        return slope * (x - T_stove_bs[2]) + T15\n",
    "    elif T_stove_bs[3] < x <= T_stove_bs[4]:\n",
    "        return T6\n",
    "    elif T_stove_bs[4] < x <= T_stove_bs[5]:\n",
    "        slope = (T7 - T6) / (T_stove_bs[5] - T_stove_bs[4])\n",
    "        return slope * (x - T_stove_bs[4]) + T6\n",
    "    elif T_stove_bs[5] < x <= T_stove_bs[6]:\n",
    "        return T7\n",
    "    elif T_stove_bs[6] < x <= T_stove_bs[7]:\n",
    "        slope = (T89 - T7) / (T_stove_bs[7] - T_stove_bs[6])\n",
    "        return slope * (x - T_stove_bs[6]) + T7\n",
    "    elif T_stove_bs[7] < x <= T_stove_bs[8]:\n",
    "        return T89\n",
    "    elif T_stove_bs[8] < x <= T_stove_bs[9]:\n",
    "        slope = (T1011 - T89) / (T_stove_bs[9] - T_stove_bs[8])\n",
    "        return slope * (x - T_stove_bs[8]) + T89\n",
    "    elif T_stove_bs[9] < x <= T_stove_bs[10]:\n",
    "        return T1011\n",
    "    elif T_stove_bs[10] < x <= T_stove_bs[11]:\n",
    "        slope = (T1011 - T_env) / (T_stove_bs[11] - T_stove_bs[10])\n",
    "        return slope * (x - T_stove_bs[10]) + T1011"
   ]
  },
  {
   "cell_type": "code",
   "execution_count": 35,
   "metadata": {},
   "outputs": [
    {
     "data": {
      "text/plain": [
       "<Axes: >"
      ]
     },
     "execution_count": 35,
     "metadata": {},
     "output_type": "execute_result"
    },
    {
     "data": {
      "image/png": "[encoded data removed]",
      "text/plain": [
       "<Figure size 640x480 with 1 Axes>"
      ]
     },
     "metadata": {},
     "output_type": "display_data"
    }
   ],
   "source": [
    "# Plot T for x\n",
    "import seaborn as sns\n",
    "sns.set_theme(\"paper\")\n",
    "x = np.linspace(0, 440.5, 1000)\n",
    "y = np.vectorize(T_air)(x)\n",
    "sns.lineplot(x=x, y=y)"
   ]
  },
  {
   "cell_type": "code",
   "execution_count": 36,
   "metadata": {},
   "outputs": [],
   "source": [
    "def get_seg(pos):\n",
    "    for i in range(1, len(T_stove_bs)):\n",
    "        if pos < T_stove_bs[i]:\n",
    "            return int(i - 1)\n",
    "    return int(len(T_stove_bs) - 1)"
   ]
  },
  {
   "cell_type": "code",
   "execution_count": 37,
   "metadata": {},
   "outputs": [],
   "source": [
    "dt = 0.1"
   ]
  },
  {
   "cell_type": "code",
   "execution_count": 38,
   "metadata": {},
   "outputs": [],
   "source": [
    "def cal(speed):\n",
    "    speed /= 60\n",
    "    # cm / min -> cm / s\n",
    "    theta = np.array([532.23876665,  54.55804656,  51.51008425,  60.64395191,\n",
    "        73.58904021,  48.13889706, 306.98201478,  36.52734275,\n",
    "        423.53293641, 168.02540902,  66.58185161,  47.14781481])\n",
    "    time = T_stove_bs[-1] / speed\n",
    "    n_ = int(time / dt)\n",
    "    T = np.zeros(n_)\n",
    "    T.fill(T_env)\n",
    "    theta_over_dt = theta / dt\n",
    "    for t_ in range(1, n_):\n",
    "        pos = t_ * dt * speed\n",
    "        T_a = T_air(pos)\n",
    "        t = theta_over_dt[get_seg(pos)]\n",
    "        T[t_] = (T_a + T[t_ - 1] * t) / (1 + t)\n",
    "    return T"
   ]
  },
  {
   "cell_type": "code",
   "execution_count": 39,
   "metadata": {},
   "outputs": [
    {
     "name": "stdout",
     "output_type": "stream",
     "text": [
      "Valid: 82.5\n",
      "Invalid: 91.25\n",
      "Invalid: 86.875\n",
      "Invalid: 84.6875\n",
      "Invalid: 83.59375\n",
      "Invalid: 83.046875\n",
      "Invalid: 82.7734375\n",
      "Valid: 82.63671875\n",
      "Invalid: 82.705078125\n",
      "Invalid: 82.6708984375\n",
      "Invalid: 82.65380859375\n",
      "Invalid: 82.645263671875\n",
      "Invalid: 82.6409912109375\n",
      "Invalid: 82.63885498046875\n",
      "Invalid: 82.63778686523438\n",
      "Invalid: 82.63725280761719\n",
      "Invalid: 82.6369857788086\n",
      "Valid: 82.6368522644043\n",
      "Invalid: 82.63691902160645\n"
     ]
    }
   ],
   "source": [
    "eps = 1e-4\n",
    "left = 65\n",
    "right = 100\n",
    "while right - left > eps:\n",
    "    mid = (left + right) / 2\n",
    "    prediction = cal(mid)\n",
    "    \"\"\"\n",
    "    界限名称\t最低值\t最高值\t单位\n",
    "    温度上升斜率\t0\t3\tºC/s\n",
    "    温度下降斜率\t-3\t0\tºC/s\n",
    "    温度上升过程中在150ºC~190ºC的时间\t60\t120\ts\n",
    "    温度大于217ºC的时间\t40\t90\ts\n",
    "    峰值温度\t240\t250\tºC\n",
    "    \"\"\"\n",
    "    slope_max = np.diff(prediction).max() / dt\n",
    "    slope_min = np.diff(prediction).min() / dt\n",
    "    time_within_150_190 = np.sum((prediction > 150) & (prediction < 190)) * dt\n",
    "    time_above_217 = np.sum(prediction > 217) * dt\n",
    "    peak = prediction.max()\n",
    "    if slope_max <= 3 and slope_min >= -3 and time_within_150_190 >= 60 and time_within_150_190 <= 120 and time_above_217 >= 40 and time_above_217 <= 90 and peak >= 240 and peak <= 250:\n",
    "        print(f\"Valid: {mid}\")\n",
    "        left = mid\n",
    "    else:\n",
    "        print(f\"Invalid: {mid}\")\n",
    "        right = mid"
   ]
  },
  {
   "cell_type": "code",
   "execution_count": 40,
   "metadata": {},
   "outputs": [
    {
     "data": {
      "text/plain": [
       "[<matplotlib.lines.Line2D at 0x126dcaf80>]"
      ]
     },
     "execution_count": 40,
     "metadata": {},
     "output_type": "execute_result"
    },
    {
     "data": {
      "image/png": "[encoded data removed]",
      "text/plain": [
       "<Figure size 640x480 with 1 Axes>"
      ]
     },
     "metadata": {},
     "output_type": "display_data"
    }
   ],
   "source": [
    "import matplotlib.pyplot as plt\n",
    "\n",
    "plt.plot(cal(82.6368522644043))"
   ]
  },
  {
   "cell_type": "code",
   "execution_count": null,
   "metadata": {},
   "outputs": [
    {
     "data": {
      "text/plain": [
       "[<matplotlib.lines.Line2D at 0x126dcaf80>]"
      ]
     },
     "metadata": {},
     "output_type": "display_data"
    },
    {
     "data": {
      "image/png": "[encoded data removed]",
      "text/plain": [
       "<Figure size 640x480 with 1 Axes>"
      ]
     },
     "metadata": {},
     "output_type": "display_data"
    }
   ],
   "source": [
    "import matplotlib.pyplot as plt\n",
    "\n",
    "plt.plot(cal(82.6368522644043))"
   ]
  }
 ],
 "metadata": {
  "kernelspec": {
   "display_name": "math",
   "language": "python",
   "name": "python3"
  },
  "language_info": {
   "codemirror_mode": {
    "name": "ipython",
    "version": 3
   },
   "file_extension": ".py",
   "mimetype": "text/x-python",
   "name": "python",
   "nbconvert_exporter": "python",
   "pygments_lexer": "ipython3",
   "version": "3.10.11"
  },
  "orig_nbformat": 4
 },
 "nbformat": 4,
 "nbformat_minor": 2
}
