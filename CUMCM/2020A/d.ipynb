{
 "cells": [
  {
   "cell_type": "code",
   "execution_count": null,
   "metadata": {},
   "outputs": [],
   "source": [
    "# 2020A 3) 4)结果"
   ]
  },
  {
   "cell_type": "code",
   "execution_count": 15,
   "metadata": {},
   "outputs": [],
   "source": [
    "import numpy as np"
   ]
  },
  {
   "cell_type": "code",
   "execution_count": 16,
   "metadata": {},
   "outputs": [],
   "source": [
    "# Celsius\n",
    "T15 = 175\n",
    "T6 = 195\n",
    "T7 = 235\n",
    "T89 = 255\n",
    "T1011 = 25\n",
    "T_env = 25"
   ]
  },
  {
   "cell_type": "code",
   "execution_count": 17,
   "metadata": {},
   "outputs": [],
   "source": [
    "# centimeter\n",
    "stove_env = 25\n",
    "small_room = 30.5\n",
    "room_interval = 5"
   ]
  },
  {
   "cell_type": "code",
   "execution_count": 18,
   "metadata": {},
   "outputs": [],
   "source": [
    "T_stove_bs_dif = [\n",
    "    stove_env,\n",
    "    small_room * 5 + room_interval * 4, # 1-5 without the last interval\n",
    "    room_interval, # 5 interval\n",
    "    small_room, # 6 room\n",
    "    room_interval, # 6 interval\n",
    "    small_room, # 7 room\n",
    "    room_interval, # 7 interval\n",
    "    small_room * 2 + room_interval, # 8-9 without the last interval\n",
    "    room_interval, # 9 interval\n",
    "    small_room * 2 + room_interval, # 10-11 without the last interval\n",
    "    room_interval + stove_env # 11 interval and the stove-env area\n",
    "]"
   ]
  },
  {
   "cell_type": "code",
   "execution_count": 19,
   "metadata": {},
   "outputs": [
    {
     "data": {
      "text/plain": [
       "[0, 25, 197.5, 202.5, 233.0, 238.0, 268.5, 273.5, 339.5, 344.5, 410.5, 440.5]"
      ]
     },
     "execution_count": 19,
     "metadata": {},
     "output_type": "execute_result"
    }
   ],
   "source": [
    "T_stove_bs = [0]\n",
    "for each in T_stove_bs_dif:\n",
    "    T_stove_bs.append(T_stove_bs[-1] + each)\n",
    "T_stove_bs"
   ]
  },
  {
   "cell_type": "code",
   "execution_count": 20,
   "metadata": {},
   "outputs": [
    {
     "data": {
      "text/plain": [
       "12"
      ]
     },
     "execution_count": 20,
     "metadata": {},
     "output_type": "execute_result"
    }
   ],
   "source": [
    "len(T_stove_bs)"
   ]
  },
  {
   "cell_type": "code",
   "execution_count": 21,
   "metadata": {},
   "outputs": [],
   "source": [
    "def T_air(x):\n",
    "    if T_stove_bs[0] <= x <= T_stove_bs[1]:\n",
    "        slope = (T15 - T_env) / (T_stove_bs[1] - T_stove_bs[0])\n",
    "        return slope * (x - T_stove_bs[0]) + T_env\n",
    "    elif T_stove_bs[1] < x <= T_stove_bs[2]:\n",
    "        return T15\n",
    "    elif T_stove_bs[2] < x <= T_stove_bs[3]:\n",
    "        slope = (T6 - T15) / (T_stove_bs[3] - T_stove_bs[2])\n",
    "        return slope * (x - T_stove_bs[2]) + T15\n",
    "    elif T_stove_bs[3] < x <= T_stove_bs[4]:\n",
    "        return T6\n",
    "    elif T_stove_bs[4] < x <= T_stove_bs[5]:\n",
    "        slope = (T7 - T6) / (T_stove_bs[5] - T_stove_bs[4])\n",
    "        return slope * (x - T_stove_bs[4]) + T6\n",
    "    elif T_stove_bs[5] < x <= T_stove_bs[6]:\n",
    "        return T7\n",
    "    elif T_stove_bs[6] < x <= T_stove_bs[7]:\n",
    "        slope = (T89 - T7) / (T_stove_bs[7] - T_stove_bs[6])\n",
    "        return slope * (x - T_stove_bs[6]) + T7\n",
    "    elif T_stove_bs[7] < x <= T_stove_bs[8]:\n",
    "        return T89\n",
    "    elif T_stove_bs[8] < x <= T_stove_bs[9]:\n",
    "        slope = (T1011 - T89) / (T_stove_bs[9] - T_stove_bs[8])\n",
    "        return slope * (x - T_stove_bs[8]) + T89\n",
    "    elif T_stove_bs[9] < x <= T_stove_bs[10]:\n",
    "        return T1011\n",
    "    elif T_stove_bs[10] < x <= T_stove_bs[11]:\n",
    "        slope = (T1011 - T_env) / (T_stove_bs[11] - T_stove_bs[10])\n",
    "        return slope * (x - T_stove_bs[10]) + T1011"
   ]
  },
  {
   "cell_type": "code",
   "execution_count": 22,
   "metadata": {},
   "outputs": [
    {
     "data": {
      "text/plain": [
       "<Axes: >"
      ]
     },
     "execution_count": 22,
     "metadata": {},
     "output_type": "execute_result"
    },
    {
     "data": {
      "image/png": "[encoded data removed]",
      "text/plain": [
       "<Figure size 640x480 with 1 Axes>"
      ]
     },
     "metadata": {},
     "output_type": "display_data"
    }
   ],
   "source": [
    "# Plot T for x\n",
    "import seaborn as sns\n",
    "sns.set_theme(\"paper\")\n",
    "x = np.linspace(0, 440.5, 1000)\n",
    "y = np.vectorize(T_air)(x)\n",
    "sns.lineplot(x=x, y=y)"
   ]
  },
  {
   "cell_type": "code",
   "execution_count": 23,
   "metadata": {},
   "outputs": [],
   "source": [
    "def get_seg(pos):\n",
    "    for i in range(1, len(T_stove_bs)):\n",
    "        if pos < T_stove_bs[i]:\n",
    "            return int(i - 1)\n",
    "    return int(len(T_stove_bs) - 1)"
   ]
  },
  {
   "cell_type": "code",
   "execution_count": 24,
   "metadata": {},
   "outputs": [],
   "source": [
    "dt = 0.1"
   ]
  },
  {
   "cell_type": "code",
   "execution_count": 25,
   "metadata": {},
   "outputs": [],
   "source": [
    "def cal(speed):\n",
    "    speed /= 60\n",
    "    # cm / min -> cm / s\n",
    "    theta = np.array([532.23876665,  54.55804656,  51.51008425,  60.64395191,\n",
    "        73.58904021,  48.13889706, 306.98201478,  36.52734275,\n",
    "        423.53293641, 168.02540902,  66.58185161,  47.14781481])\n",
    "    time = T_stove_bs[-1] / speed\n",
    "    n_ = int(time / dt)\n",
    "    T = np.zeros(n_)\n",
    "    T.fill(T_env)\n",
    "    theta_over_dt = theta / dt\n",
    "    for t_ in range(1, n_):\n",
    "        pos = t_ * dt * speed\n",
    "        T_a = T_air(pos)\n",
    "        t = theta_over_dt[get_seg(pos)]\n",
    "        T[t_] = (T_a + T[t_ - 1] * t) / (1 + t)\n",
    "    return T"
   ]
  },
  {
   "cell_type": "code",
   "execution_count": 26,
   "metadata": {},
   "outputs": [],
   "source": [
    "speed = 80"
   ]
  },
  {
   "cell_type": "code",
   "execution_count": 31,
   "metadata": {},
   "outputs": [
    {
     "name": "stdout",
     "output_type": "stream",
     "text": [
      "\n",
      "            iteration: 0\n",
      "            speed: 83.14772352428413\n",
      "            T15: 168.3121115700164\n",
      "            T6: 188.2002466556926\n",
      "            T7: 225.0\n",
      "            T89: 259.05571359429814\n",
      "            T1011: 28.565216526610644\n",
      "            loss: 778.8362733600004\n",
      "                \n",
      "\n",
      "            iteration: 10000\n",
      "            speed: 96.88354187729324\n",
      "            T15: 181.87723072028027\n",
      "            T6: 185.98172678977997\n",
      "            T7: 227.4091041030453\n",
      "            T89: 265.0\n",
      "            T1011: 32.541977638805\n",
      "            loss: 100000607.37082388\n",
      "                \n",
      "\n",
      "            iteration: 20000\n",
      "            speed: 96.053354619629\n",
      "            T15: 177.51650616568267\n",
      "            T6: 187.05220676412992\n",
      "            T7: 234.99810765946881\n",
      "            T89: 263.97316582460473\n",
      "            T1011: 21.169664368135745\n",
      "            loss: 654.0053035817124\n",
      "                \n",
      "\n",
      "            iteration: 30000\n",
      "            speed: 95.00085395697322\n",
      "            T15: 169.39676221276045\n",
      "            T6: 186.16810748715258\n",
      "            T7: 233.4305084918708\n",
      "            T89: 265.0\n",
      "            T1011: 32.457924743587704\n",
      "            loss: 628.3733639114256\n",
      "                \n",
      "\n",
      "            iteration: 40000\n",
      "            speed: 94.7511065810555\n",
      "            T15: 165.0\n",
      "            T6: 193.43189106766283\n",
      "            T7: 233.67771646710284\n",
      "            T89: 265.0\n",
      "            T1011: 16.19218625873749\n",
      "            loss: 648.5264211877778\n",
      "                \n",
      "\n",
      "            iteration: 50000\n",
      "            speed: 92.18628991655048\n",
      "            T15: 171.2469533585134\n",
      "            T6: 185.77390438886545\n",
      "            T7: 225.0\n",
      "            T89: 264.51068325324184\n",
      "            T1011: 17.569173117355575\n",
      "            loss: 699.8769016513526\n",
      "                \n",
      "\n",
      "            iteration: 60000\n",
      "            speed: 99.50643058728333\n",
      "            T15: 184.77409827561272\n",
      "            T6: 201.63957026023186\n",
      "            T7: 230.24994427176318\n",
      "            T89: 263.9148091580117\n",
      "            T1011: 33.35857384013248\n",
      "            loss: 664.8166049654876\n",
      "                \n",
      "\n",
      "            iteration: 70000\n",
      "            speed: 91.66461530419974\n",
      "            T15: 165.09772382346395\n",
      "            T6: 189.07575848730315\n",
      "            T7: 232.47399811934756\n",
      "            T89: 263.62443485288526\n",
      "            T1011: 15.469884643214845\n",
      "            loss: 100000609.08755109\n",
      "                \n",
      "\n",
      "            iteration: 80000\n",
      "            speed: 99.81816038124713\n",
      "            T15: 182.87946690826877\n",
      "            T6: 193.24824609995457\n",
      "            T7: 235.6222677783059\n",
      "            T89: 264.67944102638586\n",
      "            T1011: 34.10988649701655\n",
      "            loss: 100000615.57773675\n",
      "                \n",
      "\n",
      "            iteration: 90000\n",
      "            speed: 96.27113671440452\n",
      "            T15: 175.8939655067128\n",
      "            T6: 192.36002046609653\n",
      "            T7: 231.3097732691292\n",
      "            T89: 265.0\n",
      "            T1011: 32.00591012767264\n",
      "            loss: 665.4481174025059\n",
      "                \n",
      "\n",
      "            iteration: 100000\n",
      "            speed: 94.69527728293468\n",
      "            T15: 168.67965112456767\n",
      "            T6: 198.78573362178543\n",
      "            T7: 225.0\n",
      "            T89: 265.0\n",
      "            T1011: 15.0\n",
      "            loss: 634.3296293262305\n",
      "                \n",
      "\n",
      "            iteration: 110000\n",
      "            speed: 99.08390440365572\n",
      "            T15: 174.660921900746\n",
      "            T6: 199.56752892725765\n",
      "            T7: 238.05951332655627\n",
      "            T89: 265.0\n",
      "            T1011: 17.974221203790155\n",
      "            loss: 644.2104387536939\n",
      "                \n",
      "\n",
      "            iteration: 120000\n",
      "            speed: 96.07942183270087\n",
      "            T15: 167.75877080178958\n",
      "            T6: 190.80288488795074\n",
      "            T7: 241.58737324581216\n",
      "            T89: 264.54123678567555\n",
      "            T1011: 20.485836911731695\n",
      "            loss: 100000604.77665812\n",
      "                \n",
      "\n",
      "            iteration: 130000\n",
      "            speed: 95.99465999829113\n",
      "            T15: 174.87592605752278\n",
      "            T6: 203.1152664819383\n",
      "            T7: 233.81293382309318\n",
      "            T89: 263.06003130110355\n",
      "            T1011: 28.699042230730928\n",
      "            loss: 100000640.8267335\n",
      "                \n",
      "\n",
      "            iteration: 140000\n",
      "            speed: 93.41131415403122\n",
      "            T15: 165.99257506557203\n",
      "            T6: 185.59433932447732\n",
      "            T7: 231.19246464701413\n",
      "            T89: 265.0\n",
      "            T1011: 19.983287190432822\n",
      "            loss: 100000625.70970264\n",
      "                \n",
      "\n",
      "            iteration: 150000\n",
      "            speed: 93.49850512776109\n",
      "            T15: 169.11154027790326\n",
      "            T6: 191.75380612796434\n",
      "            T7: 225.7412801113201\n",
      "            T89: 265.0\n",
      "            T1011: 34.4848714537346\n",
      "            loss: 100000580.65085189\n",
      "                \n",
      "\n",
      "            iteration: 160000\n",
      "            speed: 99.70269706914074\n",
      "            T15: 177.43205091157827\n",
      "            T6: 203.3463912318408\n",
      "            T7: 233.94370476473068\n",
      "            T89: 264.8053485343234\n",
      "            T1011: 35.0\n",
      "            loss: 635.4428118931321\n",
      "                \n",
      "\n",
      "            iteration: 170000\n",
      "            speed: 95.21002835178884\n",
      "            T15: 165.9223387103457\n",
      "            T6: 199.7354349806146\n",
      "            T7: 231.27860167923188\n",
      "            T89: 265.0\n",
      "            T1011: 22.320387318633603\n",
      "            loss: 100000594.03342937\n",
      "                \n",
      "\n",
      "            iteration: 180000\n",
      "            speed: 95.77921891507036\n",
      "            T15: 172.21204687251543\n",
      "            T6: 190.84177253658657\n",
      "            T7: 230.76804629336638\n",
      "            T89: 265.0\n",
      "            T1011: 34.74029991689495\n",
      "            loss: 656.3151218573225\n",
      "                \n",
      "\n",
      "            iteration: 190000\n",
      "            speed: 99.58333426964667\n",
      "            T15: 178.70917548044812\n",
      "            T6: 189.46901345809493\n",
      "            T7: 238.23757061210344\n",
      "            T89: 264.9927310506332\n",
      "            T1011: 33.71604225040447\n",
      "            loss: 100000621.83369733\n",
      "                \n"
     ]
    }
   ],
   "source": [
    "# simulated annealing\n",
    "\n",
    "# iterations = 20000\n",
    "# sim_T = 4050\n",
    "# sim_T_step = 0.2\n",
    "# extra_loss = 1e8\n",
    "\n",
    "iterations = 200000\n",
    "sim_T = 22\n",
    "sim_T_step = 0.0001\n",
    "extra_loss = 1e8\n",
    "\n",
    "last_loss = 1e10\n",
    "\n",
    "sigma = 1\n",
    "\n",
    "for i in range(iterations):\n",
    "    \"\"\"\n",
    "    # Celsius\n",
    "    T15 = 175\n",
    "    T6 = 195\n",
    "    T7 = 235\n",
    "    T89 = 255\n",
    "    T1011 = 25\n",
    "    T_env = 25\n",
    "    \"\"\"\n",
    "    backup_speed, backup_T15, backup_T6, backup_T7, backup_T89, backup_T1011 = speed, T15, T6, T7, T89, T1011\n",
    "    speed += np.random.normal(0, sigma)\n",
    "    T15 += np.random.normal(0, sigma)\n",
    "    T6 += np.random.normal(0, sigma)\n",
    "    T7 += np.random.normal(0, sigma)\n",
    "    T89 += np.random.normal(0, sigma)\n",
    "    T1011 += np.random.normal(0, sigma)\n",
    "    \"\"\"上述实验设定温度的基础上，各小温区设定温度可以进行\\pm10ºC\"\"\"\n",
    "    \"\"\"speed within 65~100 \"\"\"\n",
    "    speed = np.clip(speed, 65, 100)\n",
    "    \"\"\"T15 within 175+-10 \"\"\"\n",
    "    T15 = np.clip(T15, 165, 185)\n",
    "    \"\"\"T6 within 195+-10 \"\"\"\n",
    "    T6 = np.clip(T6, 185, 205)\n",
    "    \"\"\"T7 within 235+-10 \"\"\"\n",
    "    T7 = np.clip(T7, 225, 245)\n",
    "    \"\"\"T89 within 255+-10 \"\"\"\n",
    "    T89 = np.clip(T89, 245, 265)\n",
    "    \"\"\"T1011 within 25+-10 \"\"\"\n",
    "    T1011 = np.clip(T1011, 15, 35)\n",
    "    def loss():\n",
    "        r = 0\n",
    "        prediction = cal(speed)\n",
    "        slope_max = np.diff(prediction).max() / dt\n",
    "        slope_min = np.diff(prediction).min() / dt\n",
    "        time_within_150_190 = np.sum((prediction > 150) & (prediction < 190)) * dt\n",
    "        time_above_217 = np.sum(prediction > 217) * dt\n",
    "        peak = prediction.max()\n",
    "        if slope_max <= 3 and slope_min >= -3 and time_within_150_190 >= 60 and time_within_150_190 <= 120 and time_above_217 >= 40 and time_above_217 <= 90 and peak >= 240 and peak <= 250:\n",
    "            r += 0\n",
    "        else:\n",
    "            r += extra_loss\n",
    "        \"\"\"\n",
    "        理想的炉温曲线应使超过217ºC到峰值温度所覆盖的面积（图2中阴影部分）最小。\n",
    "        \"\"\"\n",
    "        r += np.sum(np.clip(prediction - 217, 0, None)) * dt\n",
    "        \"\"\"\n",
    "        还希望以峰值温度为中心线的两侧超过217ºC的炉温曲线应尽量对称\n",
    "        \"\"\"\n",
    "        over_217 = prediction[prediction >= 217]\n",
    "        reversed_over_217 = over_217[::-1]\n",
    "        r += np.sum(np.abs(over_217 - reversed_over_217)) * dt\n",
    "        return r\n",
    "    l = loss() \n",
    "    delta = l - last_loss\n",
    "    if delta < 0 or np.random.random() < np.exp(-delta / sim_T):\n",
    "        last_loss = l\n",
    "    else:\n",
    "        speed, T15, T6, T7, T89, T1011 = backup_speed, backup_T15, backup_T6, backup_T7, backup_T89, backup_T1011\n",
    "    sim_T -= sim_T_step\n",
    "    if i % (iterations // 20) == 0:\n",
    "        print(f\"\"\"\n",
    "            iteration: {i}\n",
    "            speed: {speed}\n",
    "            T15: {T15}\n",
    "            T6: {T6}\n",
    "            T7: {T7}\n",
    "            T89: {T89}\n",
    "            T1011: {T1011}\n",
    "            loss: {l}\n",
    "                \"\"\")"
   ]
  },
  {
   "cell_type": "code",
   "execution_count": 32,
   "metadata": {},
   "outputs": [
    {
     "data": {
      "text/plain": [
       "626.9495131407625"
      ]
     },
     "execution_count": 32,
     "metadata": {},
     "output_type": "execute_result"
    }
   ],
   "source": [
    "last_loss"
   ]
  },
  {
   "cell_type": "code",
   "execution_count": 33,
   "metadata": {},
   "outputs": [
    {
     "data": {
      "text/plain": [
       "[<matplotlib.lines.Line2D at 0x13ea8bbb0>]"
      ]
     },
     "execution_count": 33,
     "metadata": {},
     "output_type": "execute_result"
    },
    {
     "data": {
      "image/png": "[encoded data removed]",
      "text/plain": [
       "<Figure size 640x480 with 1 Axes>"
      ]
     },
     "metadata": {},
     "output_type": "display_data"
    }
   ],
   "source": [
    "import matplotlib.pyplot as plt\n",
    "T_result = cal(speed)\n",
    "plt.plot(T_result)"
   ]
  },
  {
   "cell_type": "code",
   "execution_count": 34,
   "metadata": {},
   "outputs": [
    {
     "data": {
      "text/plain": [
       "<Axes: >"
      ]
     },
     "execution_count": 34,
     "metadata": {},
     "output_type": "execute_result"
    },
    {
     "data": {
      "image/png": "[encoded data removed]",
      "text/plain": [
       "<Figure size 640x480 with 1 Axes>"
      ]
     },
     "metadata": {},
     "output_type": "display_data"
    }
   ],
   "source": [
    "# Plot T for x\n",
    "import seaborn as sns\n",
    "sns.set_theme(\"paper\")\n",
    "x = np.linspace(0, 440.5, 1000)\n",
    "y = np.vectorize(T_air)(x)\n",
    "sns.lineplot(x=x, y=y)"
   ]
  }
 ],
 "metadata": {
  "kernelspec": {
   "display_name": "math",
   "language": "python",
   "name": "python3"
  },
  "language_info": {
   "codemirror_mode": {
    "name": "ipython",
    "version": 3
   },
   "file_extension": ".py",
   "mimetype": "text/x-python",
   "name": "python",
   "nbconvert_exporter": "python",
   "pygments_lexer": "ipython3",
   "version": "3.10.11"
  },
  "orig_nbformat": 4
 },
 "nbformat": 4,
 "nbformat_minor": 2
}
