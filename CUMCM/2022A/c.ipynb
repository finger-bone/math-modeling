{
 "cells": [
  {
   "cell_type": "code",
   "execution_count": null,
   "metadata": {},
   "outputs": [],
   "source": [
    "# 2022A 2) 第一问结果"
   ]
  },
  {
   "cell_type": "code",
   "execution_count": 1,
   "metadata": {},
   "outputs": [],
   "source": [
    "\"\"\"\n",
    "问题\t入射波浪频率 (s-1)\t垂荡附加质量 (kg)\t纵摇附加转动惯量 (kg·m2)\t垂荡兴波阻尼系数 (N·s/m)\t纵摇兴波阻尼系数 (N·m·s)\t垂荡激励力振幅 (N)\t纵摇激励力矩振幅 (N·m)\n",
    "问题1\t1.4005\t1335.535\t6779.315\t656.3616\t151.4388\t6250\t1230\n",
    "问题2\t2.2143\t1165.992\t7131.29\t    167.8395\t2992.724\t4890\t2560\n",
    "问题3\t1.7152\t1028.876\t7001.914\t683.4558\t654.3383\t3640\t1690\n",
    "问题4\t1.9806\t1091.099\t7142.493\t528.5018\t1655.909\t1760\t2140\n",
    "\"\"\"\n",
    "pass"
   ]
  },
  {
   "cell_type": "code",
   "execution_count": 2,
   "metadata": {},
   "outputs": [],
   "source": [
    "\"\"\"\n",
    "参数\t取值\n",
    "浮子质量 (kg)\t4866\n",
    "浮子底半径 (m)\t1\n",
    "浮子圆柱部分高度 (m)\t3\n",
    "浮子圆锥部分高度 (m)\t0.8\n",
    "振子质量 (kg)\t2433\n",
    "振子半径 (m)\t0.5\n",
    "振子高度 (m)\t0.5\n",
    "海水的密度 (kg/m3)\t1025\n",
    "重力加速度 (m/s2)\t9.8\n",
    "弹簧刚度 (N/m)\t80000\n",
    "弹簧原长 (m)\t0.5\n",
    "扭转弹簧刚度 (N·m)\t250000\n",
    "静水恢复力矩系数 (N·m)\t8890.7\n",
    "\"\"\"\n",
    "pass"
   ]
  },
  {
   "cell_type": "code",
   "execution_count": 3,
   "metadata": {},
   "outputs": [],
   "source": [
    "import numpy as np"
   ]
  },
  {
   "cell_type": "code",
   "execution_count": 4,
   "metadata": {},
   "outputs": [],
   "source": [
    "rho = 1025\n",
    "g = 9.8\n",
    "rho_g_pi_r2 = rho * g * np.pi * (1)**2"
   ]
  },
  {
   "cell_type": "code",
   "execution_count": 5,
   "metadata": {},
   "outputs": [],
   "source": [
    "wave_fre = 2.2143\n",
    "wave_force_max = 4890\n",
    "k = 80000\n",
    "m_oscillator = 2433\n",
    "m_floater = 4866\n",
    "m_floater_extra = 1335.535\n",
    "wave_gamma = 167.8395"
   ]
  },
  {
   "cell_type": "code",
   "execution_count": 6,
   "metadata": {},
   "outputs": [],
   "source": [
    "time = 40 * 2 * np.pi / wave_fre\n",
    "dt = 1e-3\n",
    "n_ = int(time / dt) + 1"
   ]
  },
  {
   "cell_type": "code",
   "execution_count": 7,
   "metadata": {},
   "outputs": [],
   "source": [
    "def output(gamma):\n",
    "    ret = 0\n",
    "    ksi = np.zeros(n_)\n",
    "    x = np.zeros(n_)\n",
    "    # -k(x - ksi) - gamma(D x - D ksi) = m_oscillator D2 x\n",
    "    # -k(x - ksi) - gamma(D x - D ksi) - rho g pi r2 ksi + f cos omega t =  (m_floater + m_floater_extra) D2 ksi\n",
    "    for t_ in range(2, n_):\n",
    "        # -k(x - ksi)[t_] - gamma (x - ksi)([t_] - [t_ - 1]) / dt = m (x[t_+1] - 2 x[t_] + x[t_-1]) / dt 2\n",
    "        spring_force = -k * (x[t_ - 1] - ksi[t_ - 1])\n",
    "        relative_speed = ((x[t_ - 1] - ksi[t_ - 1]) - (x[t_ - 2] - ksi[t_ - 2])) / dt\n",
    "        damping_force = -gamma * relative_speed\n",
    "        ret += np.abs(damping_force * relative_speed * dt)\n",
    "        x[t_] = 2 * x[t_ - 1] - x[t_ - 2] + (spring_force + damping_force) * dt ** 2 / m_oscillator\n",
    "        floating_force = -rho_g_pi_r2 * ksi[t_ - 1]\n",
    "        wave_force = wave_force_max * np.cos(wave_fre * t_ * dt)\n",
    "        secondary_wave_force = -wave_gamma * (ksi[t_ - 1] - ksi[t_ - 2]) / dt\n",
    "        ksi[t_] = 2 * ksi[t_ - 1] - ksi[t_ - 2] + (secondary_wave_force + floating_force + wave_force - spring_force - damping_force) * dt ** 2 / (m_floater + m_floater_extra)\n",
    "    return ret"
   ]
  },
  {
   "cell_type": "code",
   "execution_count": 8,
   "metadata": {},
   "outputs": [
    {
     "data": {
      "text/plain": [
       "24085.98993429681"
      ]
     },
     "execution_count": 8,
     "metadata": {},
     "output_type": "execute_result"
    }
   ],
   "source": [
    "output(40000)"
   ]
  },
  {
   "cell_type": "code",
   "execution_count": 9,
   "metadata": {},
   "outputs": [],
   "source": [
    "ans = 37281.36774448058\n",
    "out = output(ans)"
   ]
  },
  {
   "cell_type": "code",
   "execution_count": 10,
   "metadata": {},
   "outputs": [
    {
     "name": "stdout",
     "output_type": "stream",
     "text": [
      "\n",
      "        iteration: 0\n",
      "        ans: 37281.06778358715\n",
      "        out: 24148.400579971265\n",
      "            \n",
      "\n",
      "        iteration: 9\n",
      "        ans: 37281.03145430287\n",
      "        out: 24148.40066273799\n",
      "            \n",
      "\n",
      "        iteration: 18\n",
      "        ans: 37274.197295569684\n",
      "        out: 24148.41585097177\n",
      "            \n",
      "\n",
      "        iteration: 27\n",
      "        ans: 37271.87132451589\n",
      "        out: 24148.420845679964\n",
      "            \n",
      "\n",
      "        iteration: 36\n",
      "        ans: 37270.45710551035\n",
      "        out: 24148.42383921296\n",
      "            \n",
      "\n",
      "        iteration: 45\n",
      "        ans: 37272.754249050275\n",
      "        out: 24148.418960159517\n",
      "            \n",
      "\n",
      "        iteration: 54\n",
      "        ans: 37272.5487816556\n",
      "        out: 24148.419400079674\n",
      "            \n",
      "\n",
      "        iteration: 63\n",
      "        ans: 37275.15885353732\n",
      "        out: 24148.41376025096\n",
      "            \n",
      "\n",
      "        iteration: 72\n",
      "        ans: 37279.54430463071\n",
      "        out: 24148.40403290134\n",
      "            \n",
      "\n",
      "        iteration: 81\n",
      "        ans: 37282.35000637162\n",
      "        out: 24148.397644380355\n",
      "            \n"
     ]
    }
   ],
   "source": [
    "# simulated annealing\n",
    "T_sim = 10\n",
    "T_step = 0.1\n",
    "iterations = int((T_sim - 1) / T_step)\n",
    "sigma = 1\n",
    "\n",
    "for i in range(iterations):\n",
    "    next_ans = ans + np.random.normal(0, sigma)\n",
    "    next_ans = np.clip(next_ans, 0, 100000)\n",
    "    next_out = output(next_ans)\n",
    "    if next_out >= out or np.random.rand() < np.exp((next_out - out) / T_sim):\n",
    "        ans = next_ans\n",
    "        out = next_out\n",
    "    if i % int(iterations / 10) == 0:\n",
    "        print(f\"\"\"\n",
    "        iteration: {i}\n",
    "        ans: {ans}\n",
    "        out: {out}\n",
    "            \"\"\")"
   ]
  },
  {
   "cell_type": "code",
   "execution_count": 11,
   "metadata": {},
   "outputs": [
    {
     "data": {
      "text/plain": [
       "37284.080241718904"
      ]
     },
     "execution_count": 11,
     "metadata": {},
     "output_type": "execute_result"
    }
   ],
   "source": [
    "ans"
   ]
  }
 ],
 "metadata": {
  "kernelspec": {
   "display_name": "math",
   "language": "python",
   "name": "python3"
  },
  "language_info": {
   "codemirror_mode": {
    "name": "ipython",
    "version": 3
   },
   "file_extension": ".py",
   "mimetype": "text/x-python",
   "name": "python",
   "nbconvert_exporter": "python",
   "pygments_lexer": "ipython3",
   "version": "3.10.11"
  },
  "orig_nbformat": 4
 },
 "nbformat": 4,
 "nbformat_minor": 2
}
