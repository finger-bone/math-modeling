{
 "cells": [
  {
   "cell_type": "code",
   "execution_count": null,
   "metadata": {},
   "outputs": [],
   "source": [
    "# 2022A 4)结果"
   ]
  },
  {
   "cell_type": "code",
   "execution_count": 115,
   "metadata": {},
   "outputs": [],
   "source": [
    "\"\"\"\n",
    "问题\t入射波浪频率 (s-1)\t垂荡附加质量 (kg)\t纵摇附加转动惯量 (kg·m2)\t垂荡兴波阻尼系数 (N·s/m)\t纵摇兴波阻尼系数 (N·m·s)\t垂荡激励力振幅 (N)\t纵摇激励力矩振幅 (N·m)\n",
    "问题1\t1.4005\t1335.535\t6779.315\t656.3616\t151.4388\t6250\t1230\n",
    "问题2\t2.2143\t1165.992\t7131.29\t    167.8395\t2992.724\t4890\t2560\n",
    "问题3\t1.7152\t1028.876\t7001.914\t683.4558\t654.3383\t3640\t1690\n",
    "问题4\t1.9806\t1091.099\t7142.493\t528.5018\t1655.909\t1760\t2140\n",
    "\"\"\"\n",
    "pass"
   ]
  },
  {
   "cell_type": "code",
   "execution_count": 116,
   "metadata": {},
   "outputs": [],
   "source": [
    "\"\"\"\n",
    "参数\t取值\n",
    "浮子质量 (kg)\t4866\n",
    "浮子底半径 (m)\t1\n",
    "浮子圆柱部分高度 (m)\t3\n",
    "浮子圆锥部分高度 (m)\t0.8\n",
    "振子质量 (kg)\t2433\n",
    "振子半径 (m)\t0.5\n",
    "振子高度 (m)\t0.5\n",
    "海水的密度 (kg/m3)\t1025\n",
    "重力加速度 (m/s2)\t9.8\n",
    "弹簧刚度 (N/m)\t80000\n",
    "弹簧原长 (m)\t0.5\n",
    "扭转弹簧刚度 (N·m)\t250000\n",
    "静水恢复力矩系数 (N·m)\t8890.7\n",
    "\"\"\"\n",
    "pass"
   ]
  },
  {
   "cell_type": "code",
   "execution_count": 117,
   "metadata": {},
   "outputs": [],
   "source": [
    "import numpy as np"
   ]
  },
  {
   "cell_type": "code",
   "execution_count": 118,
   "metadata": {},
   "outputs": [],
   "source": [
    "rho = 1025\n",
    "g = 9.8\n",
    "rho_g_pi_r2 = rho * g * np.pi * (1)**2"
   ]
  },
  {
   "cell_type": "code",
   "execution_count": 119,
   "metadata": {},
   "outputs": [],
   "source": [
    "I_floater = 8289.43\n",
    "I_floater_extra = 7142.493\n",
    "I_oscillator = lambda x: 202.75 + 2443 * (0.75 + x)\n",
    "\n",
    "m_oscillator = 2433\n",
    "m_floater = 4866\n",
    "m_floater_extra = 1091.099\n",
    "\n",
    "k = 80000\n",
    "g = 250000\n",
    "wave_g = 8890.7\n",
    "wave_fre = 1.9806\n",
    "wave_force_max = 1760\n",
    "wave_torque_max = 2140\n",
    "\n",
    "gamma_wave = 528.5018\n",
    "\n",
    "epsilon_wave = 1655.909"
   ]
  },
  {
   "cell_type": "code",
   "execution_count": 120,
   "metadata": {},
   "outputs": [],
   "source": [
    "time = 40 * 2 * np.pi / wave_fre\n",
    "dt = 0.05\n",
    "n_ = int(time / dt) + 1"
   ]
  },
  {
   "cell_type": "code",
   "execution_count": 121,
   "metadata": {},
   "outputs": [
    {
     "data": {
      "text/plain": [
       "126.89458360455592"
      ]
     },
     "execution_count": 121,
     "metadata": {},
     "output_type": "execute_result"
    }
   ],
   "source": [
    "time"
   ]
  },
  {
   "cell_type": "code",
   "execution_count": 122,
   "metadata": {},
   "outputs": [],
   "source": [
    "def output(gamma, epsilon):\n",
    "    ksi = np.zeros(n_)\n",
    "    x = np.zeros(n_)\n",
    "    theta = np.zeros(n_)\n",
    "    t = np.zeros(n_)\n",
    "    ret = 0\n",
    "    for t_ in range(2, n_):\n",
    "        spring_force = -k * (x[t_ - 1] - ksi[t_ - 1])\n",
    "        relative_speed = ((x[t_ - 1] - ksi[t_ - 1]) - (x[t_ - 2] - ksi[t_ - 2])) / dt\n",
    "        damping_force = -gamma * np.sqrt(np.abs(relative_speed)) * relative_speed\n",
    "        x[t_] = 2 * x[t_ - 1] - x[t_ - 2] + (spring_force + damping_force) * dt ** 2 / m_oscillator\n",
    "        floating_force = -rho_g_pi_r2 * ksi[t_ - 1]\n",
    "        wave_force = wave_force_max * np.cos(wave_fre * t_ * dt)\n",
    "        secondary_wave_force = -gamma_wave * (ksi[t_ - 1] - ksi[t_ - 2]) / dt\n",
    "        ksi[t_] = 2 * ksi[t_ - 1] - ksi[t_ - 2] + (secondary_wave_force + floating_force + wave_force - spring_force - damping_force) * dt ** 2 / (m_floater + m_floater_extra)\n",
    "        ret += np.abs(damping_force * relative_speed * dt)\n",
    "        \n",
    "        ksi_acc = (ksi[t_] - 2 * ksi[t_ - 1] + ksi[t_ - 2]) / dt ** 2\n",
    "        inertial_force = -m_floater_extra * ksi_acc\n",
    "        inertial_torque = inertial_force * (x[t_] + 0.75 - 00.3) * np.sin(t[t_ - 1])\n",
    "        \n",
    "        spring_torque = -g * (t[t_ - 1] - theta[t_ - 1])\n",
    "        relative_angular_speed = ((t[t_ - 1] - theta[t_ - 1]) - (t[t_ - 2] - theta[t_ - 2])) / dt\n",
    "        damping_torque = -epsilon * relative_angular_speed\n",
    "        t[t_] = 2 * t[t_ - 1] - t[t_ - 2] + (inertial_torque + spring_torque + damping_torque) * dt ** 2 / I_floater\n",
    "        floating_torque = -wave_g * theta[t_ - 1]\n",
    "        secondary_wave_torque = -epsilon_wave* (theta[t_ - 1] - theta[t_ - 2]) / dt\n",
    "        wave_torque = wave_torque_max * np.cos(wave_fre * t_ * dt)\n",
    "        theta[t_] = 2 * theta[t_ - 1] - theta[t_ - 2] + (secondary_wave_torque + floating_torque + wave_torque- spring_torque - damping_torque) * dt ** 2 / (I_floater + I_floater_extra)\n",
    "        ret += np.abs(damping_torque * relative_angular_speed * dt)\n",
    "    return ret"
   ]
  },
  {
   "cell_type": "code",
   "execution_count": 123,
   "metadata": {},
   "outputs": [
    {
     "data": {
      "text/plain": [
       "33933.02516902397"
      ]
     },
     "execution_count": 123,
     "metadata": {},
     "output_type": "execute_result"
    }
   ],
   "source": [
    "# ans_gamma = 68222.55406425311\n",
    "ans_gamma = 100000\n",
    "# ans_epsilon = 48124.56529121844\n",
    "ans_epsilon = 30000\n",
    "out = output(ans_gamma, ans_epsilon)\n",
    "out"
   ]
  },
  {
   "cell_type": "code",
   "execution_count": 126,
   "metadata": {},
   "outputs": [
    {
     "name": "stdout",
     "output_type": "stream",
     "text": [
      "\n",
      "        0.0%\n",
      "        gamma: 100000.0\n",
      "        epsilon: 30419.09770485023\n",
      "        out: 33934.11490363202 \n",
      "            \n",
      "\n",
      "        9.99099909990999%\n",
      "        gamma: 99999.25758856852\n",
      "        epsilon: 30413.69728730554\n",
      "        out: 33934.02085775289 \n",
      "            \n",
      "\n",
      "        19.98199819981998%\n",
      "        gamma: 99999.78264140386\n",
      "        epsilon: 30417.862994164687\n",
      "        out: 33934.088267615894 \n",
      "            \n",
      "\n",
      "        29.972997299729975%\n",
      "        gamma: 99999.46328652282\n",
      "        epsilon: 30418.286495119024\n",
      "        out: 33934.05493252373 \n",
      "            \n",
      "\n",
      "        39.96399639963996%\n",
      "        gamma: 99999.10769134483\n",
      "        epsilon: 30420.5854173195\n",
      "        out: 33934.0225509635 \n",
      "            \n",
      "\n",
      "        49.95499549954995%\n",
      "        gamma: 99998.62960182858\n",
      "        epsilon: 30420.74397392878\n",
      "        out: 33933.971413446576 \n",
      "            \n",
      "\n",
      "        59.94599459945995%\n",
      "        gamma: 99997.147898413\n",
      "        epsilon: 30416.92096904957\n",
      "        out: 33933.801740306175 \n",
      "            \n",
      "\n",
      "        69.93699369936994%\n",
      "        gamma: 99999.67258940179\n",
      "        epsilon: 30424.752895137248\n",
      "        out: 33934.09426060616 \n",
      "            \n",
      "\n",
      "        79.92799279927992%\n",
      "        gamma: 99999.46818450601\n",
      "        epsilon: 30426.28624807456\n",
      "        out: 33934.07619586394 \n",
      "            \n",
      "\n",
      "        89.91899189918992%\n",
      "        gamma: 99997.4865700133\n",
      "        epsilon: 30423.592687283748\n",
      "        out: 33933.855551267116 \n",
      "            \n",
      "\n",
      "        99.9099909990999%\n",
      "        gamma: 100000.0\n",
      "        epsilon: 30422.340315031\n",
      "        out: 33934.1233086247 \n",
      "            \n"
     ]
    }
   ],
   "source": [
    "# simulated annealing\n",
    "sim_T = 1\n",
    "sim_step = 0.0001\n",
    "iterations  = int((sim_T - sim_step) / sim_step)\n",
    "sigma = 0.1\n",
    "for i in range(iterations):\n",
    "    next_gamma = ans_gamma + np.random.normal(0, sigma)\n",
    "    next_gamma = np.clip(next_gamma, 0, 100000)\n",
    "    next_epsilon = ans_epsilon + np.random.normal(0, sigma)\n",
    "    next_epsilon = np.clip(next_epsilon, 0, 100000)\n",
    "    next_out = output(next_gamma, next_epsilon)\n",
    "    if next_out > out or np.random.rand() < np.exp((next_out - out) / sim_T):\n",
    "        ans_gamma = next_gamma\n",
    "        ans_epsilon = next_epsilon\n",
    "        out = next_out\n",
    "    sim_T -= sim_step\n",
    "    if i % int(iterations / 10) == 0:\n",
    "        print(f\"\"\"\n",
    "        {i / iterations * 100}%\n",
    "        gamma: {ans_gamma}\n",
    "        epsilon: {ans_epsilon}\n",
    "        out: {out} \n",
    "            \"\"\")"
   ]
  }
 ],
 "metadata": {
  "kernelspec": {
   "display_name": "math",
   "language": "python",
   "name": "python3"
  },
  "language_info": {
   "codemirror_mode": {
    "name": "ipython",
    "version": 3
   },
   "file_extension": ".py",
   "mimetype": "text/x-python",
   "name": "python",
   "nbconvert_exporter": "python",
   "pygments_lexer": "ipython3",
   "version": "3.10.11"
  },
  "orig_nbformat": 4
 },
 "nbformat": 4,
 "nbformat_minor": 2
}
